{
 "cells": [
  {
   "cell_type": "code",
   "execution_count": 2,
   "id": "33537290",
   "metadata": {},
   "outputs": [],
   "source": [
    "from sklearn.feature_extraction.text import CountVectorizer, TfidfTransformer\n",
    "from scipy.cluster import  hierarchy"
   ]
  },
  {
   "cell_type": "code",
   "execution_count": 3,
   "id": "7355ff70",
   "metadata": {},
   "outputs": [],
   "source": [
    "import pandas as pd\n",
    "import gc\n",
    "import numpy as np"
   ]
  },
  {
   "cell_type": "code",
   "execution_count": 4,
   "id": "ee5a4343",
   "metadata": {},
   "outputs": [
    {
     "data": {
      "text/plain": [
       "1189"
      ]
     },
     "execution_count": 4,
     "metadata": {},
     "output_type": "execute_result"
    }
   ],
   "source": [
    "data = pd.read_csv('cleaned_titles_new.csv')\n",
    "len(data)"
   ]
  },
  {
   "cell_type": "code",
   "execution_count": 7,
   "id": "c6e7c3b5",
   "metadata": {},
   "outputs": [
    {
     "name": "stdout",
     "output_type": "stream",
     "text": [
      "<class 'pandas.core.frame.DataFrame'>\n",
      "RangeIndex: 1189 entries, 0 to 1188\n",
      "Data columns (total 2 columns):\n",
      " #   Column  Non-Null Count  Dtype \n",
      "---  ------  --------------  ----- \n",
      " 0   Title   1189 non-null   object\n",
      " 1   Story   1189 non-null   object\n",
      "dtypes: object(2)\n",
      "memory usage: 18.7+ KB\n"
     ]
    }
   ],
   "source": [
    "data.info()"
   ]
  },
  {
   "cell_type": "code",
   "execution_count": 6,
   "id": "09a9e386",
   "metadata": {},
   "outputs": [],
   "source": [
    "data=data[['Title','Story']]"
   ]
  },
  {
   "cell_type": "code",
   "execution_count": 8,
   "id": "a45f5b02",
   "metadata": {},
   "outputs": [],
   "source": [
    "X = CountVectorizer().fit_transform(list(data['Title']))\n",
    "X = TfidfTransformer().fit_transform(X)\n",
    "X = X.todense()"
   ]
  },
  {
   "cell_type": "code",
   "execution_count": 19,
   "id": "9e9e2265",
   "metadata": {},
   "outputs": [],
   "source": [
    "threshold = 0.983\n",
    "Z = hierarchy.linkage(X,\"average\", metric=\"cosine\")\n",
    "C = hierarchy.fcluster(Z, threshold, criterion=\"distance\")"
   ]
  },
  {
   "cell_type": "code",
   "execution_count": 20,
   "id": "24c4f3a7",
   "metadata": {},
   "outputs": [
    {
     "data": {
      "text/plain": [
       "22"
      ]
     },
     "execution_count": 20,
     "metadata": {},
     "output_type": "execute_result"
    }
   ],
   "source": [
    "max(C)"
   ]
  },
  {
   "cell_type": "code",
   "execution_count": 21,
   "id": "434070c1",
   "metadata": {},
   "outputs": [],
   "source": [
    "data['Clusters'] = pd.DataFrame(C, index=data.index)"
   ]
  },
  {
   "cell_type": "code",
   "execution_count": 22,
   "id": "dfea593c",
   "metadata": {},
   "outputs": [],
   "source": [
    "data.to_csv('BOW_TFIDF_Hier_new.csv')"
   ]
  }
 ],
 "metadata": {
  "kernelspec": {
   "display_name": "Python 3",
   "language": "python",
   "name": "python3"
  },
  "language_info": {
   "codemirror_mode": {
    "name": "ipython",
    "version": 3
   },
   "file_extension": ".py",
   "mimetype": "text/x-python",
   "name": "python",
   "nbconvert_exporter": "python",
   "pygments_lexer": "ipython3",
   "version": "3.8.8"
  }
 },
 "nbformat": 4,
 "nbformat_minor": 5
}
